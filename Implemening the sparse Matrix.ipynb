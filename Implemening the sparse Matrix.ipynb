{
 "cells": [
  {
   "cell_type": "markdown",
   "id": "ed533482",
   "metadata": {},
   "source": [
    "## Name; Narender Kumar\n",
    "## Roll Number: 202102611\n",
    "### Assignment 2"
   ]
  },
  {
   "cell_type": "markdown",
   "id": "5d941319",
   "metadata": {},
   "source": [
    "### Write a program(in C/C++/Python) to implement the sparse Matrix. Take input matrix of size 'm' x 'n' and convert it into sparse matrix."
   ]
  },
  {
   "cell_type": "code",
   "execution_count": 6,
   "id": "561b11a7",
   "metadata": {},
   "outputs": [
    {
     "name": "stdout",
     "output_type": "stream",
     "text": [
      "Enter the number of rows:4\n",
      "Enter the number of columns:4\n",
      "Enter the entries row wise:\n",
      "3\n",
      "4\n",
      "56\n",
      "7\n",
      "8\n",
      "8\n",
      "64\n",
      "3\n",
      "3\n",
      "4\n",
      "6\n",
      "7\n",
      "78\n",
      "8\n",
      "9\n",
      "9\n",
      "3 4 56 7 \n",
      "8 8 64 3 \n",
      "3 4 6 7 \n",
      "78 8 9 9 \n",
      "The input matrix is:\n",
      "[[3, 4, 56, 7], [8, 8, 64, 3], [3, 4, 6, 7], [78, 8, 9, 9]]\n",
      "The sparse matrix is:\n",
      "  (0, 0)\t3\n",
      "  (0, 1)\t4\n",
      "  (0, 2)\t56\n",
      "  (0, 3)\t7\n",
      "  (1, 0)\t8\n",
      "  (1, 1)\t8\n",
      "  (1, 2)\t64\n",
      "  (1, 3)\t3\n",
      "  (2, 0)\t3\n",
      "  (2, 1)\t4\n",
      "  (2, 2)\t6\n",
      "  (2, 3)\t7\n",
      "  (3, 0)\t78\n",
      "  (3, 1)\t8\n",
      "  (3, 2)\t9\n",
      "  (3, 3)\t9\n"
     ]
    }
   ],
   "source": [
    "from scipy import sparse\n",
    "import numpy as np\n",
    "\n",
    "R = int(input(\"Enter the number of rows:\"))\n",
    "C = int(input(\"Enter the number of columns:\"))\n",
    "matrix = []\n",
    "print(\"Enter the entries row wise:\")\n",
    "for i in range(R):          # row element entries\n",
    "    a =[]\n",
    "    for j in range(C):      # column element entries\n",
    "        a.append(int(input()))\n",
    "    matrix.append(a)\n",
    "\n",
    "# For printing the matrix\n",
    "for i in range(R):\n",
    "    for j in range(C):\n",
    "        print(matrix[i][j], end = \" \")\n",
    "    print()\n",
    "\n",
    "print(\"The input matrix is:\")\n",
    "print(matrix)\n",
    "sparse_matrix = sparse.csr_matrix(matrix)\n",
    "print(\"The sparse matrix is:\")\n",
    "print(sparse_matrix)"
   ]
  },
  {
   "cell_type": "code",
   "execution_count": null,
   "id": "31e0e91d",
   "metadata": {},
   "outputs": [],
   "source": []
  }
 ],
 "metadata": {
  "kernelspec": {
   "display_name": "Python 3 (ipykernel)",
   "language": "python",
   "name": "python3"
  },
  "language_info": {
   "codemirror_mode": {
    "name": "ipython",
    "version": 3
   },
   "file_extension": ".py",
   "mimetype": "text/x-python",
   "name": "python",
   "nbconvert_exporter": "python",
   "pygments_lexer": "ipython3",
   "version": "3.9.7"
  }
 },
 "nbformat": 4,
 "nbformat_minor": 5
}
