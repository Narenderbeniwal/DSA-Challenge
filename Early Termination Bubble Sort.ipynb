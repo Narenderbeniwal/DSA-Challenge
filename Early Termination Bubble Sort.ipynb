{
 "cells": [
  {
   "cell_type": "markdown",
   "id": "203c600b",
   "metadata": {},
   "source": [
    "## Name: Narender Kumar \n",
    "## Roll Number: 202102611\n",
    "# Assignment 1: Early Termination Bubble Sort"
   ]
  },
  {
   "cell_type": "markdown",
   "id": "64b6fedf",
   "metadata": {},
   "source": [
    "### Program 2: Write a program(in C/C++/Python) to implement Early Termination Bubble Sort. Show Each Iteration of the bubble sort"
   ]
  },
  {
   "cell_type": "code",
   "execution_count": 15,
   "id": "817ded75",
   "metadata": {},
   "outputs": [
    {
     "name": "stdout",
     "output_type": "stream",
     "text": [
      "Enter the number of element to be inserted5\n",
      "Enter the 0The Number ->3\n",
      "Enter the 1The Number ->2\n",
      "Enter the 2The Number ->1\n",
      "Enter the 3The Number ->8\n",
      "Enter the 4The Number ->4\n",
      "[3, 2, 1, 8, 4]\n",
      "1 iteration:->  [3, 2, 1, 8, 4]\n",
      "shifting:  3\n",
      "[2, 3, 1, 8, 4]\n",
      "shifting:  3\n",
      "[2, 1, 3, 8, 4]\n",
      "shifting:  8\n",
      "[2, 1, 3, 4, 8]\n",
      "2 iteration:->  [2, 1, 3, 4, 8]\n",
      "shifting:  2\n",
      "[1, 2, 3, 4, 8]\n",
      "3 iteration:->  [1, 2, 3, 4, 8]\n",
      "4 iteration:->  [1, 2, 3, 4, 8]\n",
      "Sorted List [1, 2, 3, 4, 8]\n"
     ]
    }
   ],
   "source": [
    "def bubblesort(a):\n",
    "    for i in range(1, len(a)):\n",
    "        print(str(i)+\" iteration:-> \", a)\n",
    "        f = 0\n",
    "        for j in range(0,len(a)-1):\n",
    "            if(a[j]>a[j+1]):\n",
    "                t=a[j]\n",
    "                print(\"shifting: \", t)\n",
    "                a[j]=a[j+1]\n",
    "                a[j+1]=t\n",
    "                f=1\n",
    "                print(a)\n",
    "            if(f==0):\n",
    "                break\n",
    "def takeinputfromuser():\n",
    "    list=[]\n",
    "    n=int(input(\"Enter the number of element to be inserted\"))\n",
    "    for i in range(n):\n",
    "        t = int(input(\"Enter the \"+str(i)+ \"The Number ->\"))\n",
    "        list.append(t)\n",
    "    return list\n",
    "a = takeinputfromuser()\n",
    "print(a)\n",
    "bubblesort(a)\n",
    "print(\"Sorted List\", a)"
   ]
  },
  {
   "cell_type": "code",
   "execution_count": null,
   "id": "79718ec9",
   "metadata": {},
   "outputs": [
    {
     "name": "stdout",
     "output_type": "stream",
     "text": [
      "Collecting package metadata (current_repodata.json): \\ "
     ]
    }
   ],
   "source": [
    "conda install -c conda-forge pandoc\n"
   ]
  },
  {
   "cell_type": "code",
   "execution_count": null,
   "id": "f5b2e79b",
   "metadata": {},
   "outputs": [],
   "source": []
  }
 ],
 "metadata": {
  "kernelspec": {
   "display_name": "Python 3 (ipykernel)",
   "language": "python",
   "name": "python3"
  },
  "language_info": {
   "codemirror_mode": {
    "name": "ipython",
    "version": 3
   },
   "file_extension": ".py",
   "mimetype": "text/x-python",
   "name": "python",
   "nbconvert_exporter": "python",
   "pygments_lexer": "ipython3",
   "version": "3.9.7"
  }
 },
 "nbformat": 4,
 "nbformat_minor": 5
}
