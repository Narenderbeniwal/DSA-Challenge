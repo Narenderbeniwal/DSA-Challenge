{
 "cells": [
  {
   "cell_type": "markdown",
   "id": "4cc5548d",
   "metadata": {},
   "source": [
    "## Name; Narender Kumar\n",
    "## Roll Number: 202102611\n",
    "### Assignment 1"
   ]
  },
  {
   "cell_type": "markdown",
   "id": "33b91136",
   "metadata": {},
   "source": [
    "# 1.Write a program to insert the element into an array at given position\n"
   ]
  },
  {
   "cell_type": "code",
   "execution_count": 1,
   "id": "cd11bbed",
   "metadata": {},
   "outputs": [
    {
     "name": "stdout",
     "output_type": "stream",
     "text": [
      "Enter the 5 Elements of List: \n",
      "2\n",
      "4\n",
      "5\n",
      "5\n",
      "6\n",
      "['2', '4', '5', '5', '6']\n",
      "Enter an Element to Insert at the 3rd position: \n",
      "34\n",
      "The New List is: \n",
      "['2', '4', '5', '34', '5', '6']\n"
     ]
    }
   ],
   "source": [
    "print(\"Enter the 5 Elements of List: \")\n",
    "nums = []\n",
    "for i in range(5):\n",
    "    nums.insert(i, input())\n",
    "print(nums)\n",
    "print(\"Enter an Element to Insert at the 3rd position: \")\n",
    "elem = input()\n",
    "nums.insert(3,elem)\n",
    "print(\"The New List is: \")\n",
    "print(nums)"
   ]
  },
  {
   "cell_type": "code",
   "execution_count": null,
   "id": "88c46262",
   "metadata": {},
   "outputs": [],
   "source": []
  }
 ],
 "metadata": {
  "kernelspec": {
   "display_name": "Python 3 (ipykernel)",
   "language": "python",
   "name": "python3"
  },
  "language_info": {
   "codemirror_mode": {
    "name": "ipython",
    "version": 3
   },
   "file_extension": ".py",
   "mimetype": "text/x-python",
   "name": "python",
   "nbconvert_exporter": "python",
   "pygments_lexer": "ipython3",
   "version": "3.9.7"
  }
 },
 "nbformat": 4,
 "nbformat_minor": 5
}
